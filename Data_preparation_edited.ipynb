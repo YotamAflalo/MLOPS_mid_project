{
  "cells": [
    {
      "cell_type": "markdown",
      "metadata": {
        "id": "t-pZQJvOu57N"
      },
      "source": [
        "Data preparation"
      ]
    },
    {
      "cell_type": "code",
      "execution_count": 4,
      "metadata": {
        "id": "h710Fk3Yo7gc"
      },
      "outputs": [],
      "source": [
        "import pandas as pd\n",
        "import pickle\n",
        "\n"
      ]
    },
    {
      "cell_type": "markdown",
      "metadata": {},
      "source": [
        "## loader"
      ]
    },
    {
      "cell_type": "code",
      "execution_count": 5,
      "metadata": {
        "id": "nAsYlUnYpXI8"
      },
      "outputs": [],
      "source": [
        "dataset = pd.read_csv('data/database_input.csv')\n"
      ]
    },
    {
      "cell_type": "markdown",
      "metadata": {},
      "source": [
        "## chack for requiremented colms, null number, and len"
      ]
    },
    {
      "cell_type": "code",
      "execution_count": 3,
      "metadata": {},
      "outputs": [],
      "source": [
        "def chack_for_missing(df:pd.DataFrame, requiremented_col:list = ['Contract','tenure']):\n",
        "    if len(df)==0: return False\n",
        "    for col in requiremented_col:\n",
        "        if col not in df.index:\n",
        "            return False\n",
        "    return True\n",
        "def chack_for_nulls(df):\n",
        "    pass\n",
        "    #נמלא את זה לאחר השיעור מוניטורינג, אולי יהיו שם כלים יותר רלוונטיים"
      ]
    },
    {
      "cell_type": "markdown",
      "metadata": {},
      "source": [
        "## drop Contract NA  "
      ]
    },
    {
      "cell_type": "code",
      "execution_count": null,
      "metadata": {},
      "outputs": [],
      "source": [
        "\n",
        "dataset['Contract'] = dataset['Contract'].dropna()\n"
      ]
    },
    {
      "cell_type": "markdown",
      "metadata": {},
      "source": [
        "## TotalCharges transform"
      ]
    },
    {
      "cell_type": "code",
      "execution_count": null,
      "metadata": {},
      "outputs": [],
      "source": [
        "dataset['TotalCharges'] = dataset['TotalCharges'].fillna(2279) # 2279 mean value in data\n",
        "dataset['TotalCharges'] = dataset['TotalCharges'].str.replace(' ','2279') # remove space string in data\n",
        "dataset['TotalCharges'] = dataset['TotalCharges'].astype(float)\n"
      ]
    },
    {
      "cell_type": "markdown",
      "metadata": {},
      "source": [
        "## PhoneService transform"
      ]
    },
    {
      "cell_type": "code",
      "execution_count": null,
      "metadata": {},
      "outputs": [],
      "source": [
        "dataset['PhoneService'].fillna('No')\n",
        "dataset['PhoneService'] = dataset['PhoneService'].map({'Yes':1,'No':0})\n"
      ]
    },
    {
      "cell_type": "markdown",
      "metadata": {},
      "source": [
        "## tenure tramsform"
      ]
    },
    {
      "cell_type": "code",
      "execution_count": null,
      "metadata": {},
      "outputs": [],
      "source": [
        "dataset['tenure'] = dataset['tenure'].fillna(dataset['tenure'].mean())"
      ]
    },
    {
      "cell_type": "markdown",
      "metadata": {},
      "source": [
        "## Contract transform"
      ]
    },
    {
      "cell_type": "code",
      "execution_count": null,
      "metadata": {},
      "outputs": [],
      "source": [
        "dataset = dataset.join(pd.get_dummies(dataset['Contract']).astype(int))"
      ]
    },
    {
      "cell_type": "code",
      "execution_count": 6,
      "metadata": {},
      "outputs": [
        {
          "name": "stdout",
          "output_type": "stream",
          "text": [
            "<class 'pandas.core.frame.DataFrame'>\n",
            "RangeIndex: 7043 entries, 0 to 7042\n",
            "Data columns (total 21 columns):\n",
            " #   Column            Non-Null Count  Dtype  \n",
            "---  ------            --------------  -----  \n",
            " 0   Unnamed: 0        7043 non-null   int64  \n",
            " 1   customerID        7043 non-null   object \n",
            " 2   gender            7043 non-null   object \n",
            " 3   SeniorCitizen     7043 non-null   int64  \n",
            " 4   Partner           7043 non-null   object \n",
            " 5   Dependents        7043 non-null   object \n",
            " 6   tenure            7043 non-null   int64  \n",
            " 7   PhoneService      7043 non-null   object \n",
            " 8   MultipleLines     7043 non-null   object \n",
            " 9   InternetService   7043 non-null   object \n",
            " 10  OnlineSecurity    7043 non-null   object \n",
            " 11  OnlineBackup      7043 non-null   object \n",
            " 12  DeviceProtection  7043 non-null   object \n",
            " 13  TechSupport       7043 non-null   object \n",
            " 14  StreamingTV       7043 non-null   object \n",
            " 15  StreamingMovies   7043 non-null   object \n",
            " 16  Contract          7043 non-null   object \n",
            " 17  PaperlessBilling  7043 non-null   object \n",
            " 18  PaymentMethod     7043 non-null   object \n",
            " 19  MonthlyCharges    7043 non-null   float64\n",
            " 20  TotalCharges      7043 non-null   object \n",
            "dtypes: float64(1), int64(3), object(17)\n",
            "memory usage: 1.1+ MB\n"
          ]
        }
      ],
      "source": [
        "dataset.info()"
      ]
    },
    {
      "cell_type": "code",
      "execution_count": 14,
      "metadata": {},
      "outputs": [
        {
          "data": {
            "text/plain": [
              "Unnamed: 0                     1\n",
              "customerID            5575-GNVDE\n",
              "gender                      Male\n",
              "SeniorCitizen                  0\n",
              "Partner                       No\n",
              "Dependents                    No\n",
              "tenure                        34\n",
              "PhoneService                   1\n",
              "MultipleLines                 No\n",
              "InternetService              DSL\n",
              "OnlineSecurity               Yes\n",
              "OnlineBackup                  No\n",
              "DeviceProtection             Yes\n",
              "TechSupport                   No\n",
              "StreamingTV                   No\n",
              "StreamingMovies               No\n",
              "Contract                One year\n",
              "PaperlessBilling              No\n",
              "PaymentMethod       Mailed check\n",
              "MonthlyCharges             56.95\n",
              "TotalCharges              1889.5\n",
              "Name: 1, dtype: object"
            ]
          },
          "execution_count": 14,
          "metadata": {},
          "output_type": "execute_result"
        }
      ],
      "source": [
        "dataset.iloc[1]"
      ]
    },
    {
      "cell_type": "code",
      "execution_count": 7,
      "metadata": {},
      "outputs": [
        {
          "name": "stdout",
          "output_type": "stream",
          "text": [
            "<class 'pandas.core.frame.DataFrame'>\n",
            "RangeIndex: 7043 entries, 0 to 7042\n",
            "Data columns (total 24 columns):\n",
            " #   Column            Non-Null Count  Dtype  \n",
            "---  ------            --------------  -----  \n",
            " 0   Unnamed: 0        7043 non-null   int64  \n",
            " 1   customerID        7043 non-null   object \n",
            " 2   gender            7043 non-null   object \n",
            " 3   SeniorCitizen     7043 non-null   int64  \n",
            " 4   Partner           7043 non-null   object \n",
            " 5   Dependents        7043 non-null   object \n",
            " 6   tenure            7043 non-null   int64  \n",
            " 7   PhoneService      7043 non-null   int64  \n",
            " 8   MultipleLines     7043 non-null   object \n",
            " 9   InternetService   7043 non-null   object \n",
            " 10  OnlineSecurity    7043 non-null   object \n",
            " 11  OnlineBackup      7043 non-null   object \n",
            " 12  DeviceProtection  7043 non-null   object \n",
            " 13  TechSupport       7043 non-null   object \n",
            " 14  StreamingTV       7043 non-null   object \n",
            " 15  StreamingMovies   7043 non-null   object \n",
            " 16  Contract          7043 non-null   object \n",
            " 17  PaperlessBilling  7043 non-null   object \n",
            " 18  PaymentMethod     7043 non-null   object \n",
            " 19  MonthlyCharges    7043 non-null   float64\n",
            " 20  TotalCharges      7043 non-null   float64\n",
            " 21  Month-to-month    7043 non-null   int32  \n",
            " 22  One year          7043 non-null   int32  \n",
            " 23  Two year          7043 non-null   int32  \n",
            "dtypes: float64(2), int32(3), int64(4), object(15)\n",
            "memory usage: 1.2+ MB\n"
          ]
        }
      ],
      "source": [
        "dataset.info()"
      ]
    },
    {
      "cell_type": "code",
      "execution_count": 8,
      "metadata": {},
      "outputs": [],
      "source": [
        "from transform import transform_df\n",
        "chack_transform = transform_df(dataset)"
      ]
    },
    {
      "cell_type": "code",
      "execution_count": 9,
      "metadata": {},
      "outputs": [
        {
          "name": "stdout",
          "output_type": "stream",
          "text": [
            "<class 'pandas.core.frame.DataFrame'>\n",
            "RangeIndex: 7043 entries, 0 to 7042\n",
            "Data columns (total 24 columns):\n",
            " #   Column            Non-Null Count  Dtype  \n",
            "---  ------            --------------  -----  \n",
            " 0   Unnamed: 0        7043 non-null   int64  \n",
            " 1   customerID        7043 non-null   object \n",
            " 2   gender            7043 non-null   object \n",
            " 3   SeniorCitizen     7043 non-null   int64  \n",
            " 4   Partner           7043 non-null   object \n",
            " 5   Dependents        7043 non-null   object \n",
            " 6   tenure            7043 non-null   int64  \n",
            " 7   PhoneService      7043 non-null   int64  \n",
            " 8   MultipleLines     7043 non-null   object \n",
            " 9   InternetService   7043 non-null   object \n",
            " 10  OnlineSecurity    7043 non-null   object \n",
            " 11  OnlineBackup      7043 non-null   object \n",
            " 12  DeviceProtection  7043 non-null   object \n",
            " 13  TechSupport       7043 non-null   object \n",
            " 14  StreamingTV       7043 non-null   object \n",
            " 15  StreamingMovies   7043 non-null   object \n",
            " 16  Contract          7043 non-null   object \n",
            " 17  PaperlessBilling  7043 non-null   object \n",
            " 18  PaymentMethod     7043 non-null   object \n",
            " 19  MonthlyCharges    7043 non-null   float64\n",
            " 20  TotalCharges      7043 non-null   float64\n",
            " 21  Month-to-month    7043 non-null   int32  \n",
            " 22  One year          7043 non-null   int32  \n",
            " 23  Two year          7043 non-null   int32  \n",
            "dtypes: float64(2), int32(3), int64(4), object(15)\n",
            "memory usage: 1.2+ MB\n"
          ]
        }
      ],
      "source": [
        "chack_transform"
      ]
    },
    {
      "cell_type": "code",
      "execution_count": 10,
      "metadata": {
        "colab": {
          "base_uri": "https://localhost:8080/"
        },
        "id": "VWBgWAnwvFlC",
        "outputId": "775d4414-10a1-4bb3-bb7e-eb9b12d57e4c"
      },
      "outputs": [
        {
          "data": {
            "text/plain": [
              "array([1, 0, 1, ..., 0, 1, 0], dtype=int64)"
            ]
          },
          "execution_count": 10,
          "metadata": {},
          "output_type": "execute_result"
        }
      ],
      "source": [
        "# TEST TO RUN MODEL\n",
        "result_columns = ['TotalCharges','Month-to-month','One year','Two year','PhoneService','tenure']\n",
        "\n",
        "with open('churn_model.pickle', 'rb') as f:\n",
        "    rf_model = pickle.load(f)\n",
        "\n",
        "rf_model.predict(chack_transform[result_columns])"
      ]
    }
  ],
  "metadata": {
    "colab": {
      "provenance": []
    },
    "kernelspec": {
      "display_name": "Python 3",
      "name": "python3"
    },
    "language_info": {
      "codemirror_mode": {
        "name": "ipython",
        "version": 3
      },
      "file_extension": ".py",
      "mimetype": "text/x-python",
      "name": "python",
      "nbconvert_exporter": "python",
      "pygments_lexer": "ipython3",
      "version": "3.10.12"
    }
  },
  "nbformat": 4,
  "nbformat_minor": 0
}
